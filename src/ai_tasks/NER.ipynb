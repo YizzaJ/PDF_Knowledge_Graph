{
 "cells": [
  {
   "cell_type": "code",
   "execution_count": 4,
   "outputs": [
    {
     "name": "stdout",
     "output_type": "stream",
     "text": [
      "/Users/christian/Desktop/Open Science and Artificial Intelligence/Assignment/PDF_Knowledge_Graph/data\n"
     ]
    }
   ],
   "source": [
    "# notebook is used to download pre-trained BERT and compute NER scores for paper acknowledgments\n",
    "import numpy as np\n",
    "from transformers import AutoTokenizer, AutoModelForTokenClassification\n",
    "from transformers import pipeline\n",
    "import pandas as pd\n",
    "import json\n",
    "from pathlib import Path\n",
    "import os\n",
    "\n",
    "DATA_DIR = Path(os.path.abspath('')).parent.parent / 'data'"
   ],
   "metadata": {
    "collapsed": false,
    "pycharm": {
     "name": "#%%\n"
    }
   }
  },
  {
   "cell_type": "code",
   "execution_count": 5,
   "outputs": [],
   "source": [
    "# load data\n",
    "with open(DATA_DIR / 'papers.json', 'r') as handle:\n",
    "    input_data = pd.read_json(handle)"
   ],
   "metadata": {
    "collapsed": false,
    "pycharm": {
     "name": "#%%\n"
    }
   }
  },
  {
   "cell_type": "code",
   "execution_count": 6,
   "outputs": [],
   "source": [
    "# create tokenizer + pipeline\n",
    "tokenizer = AutoTokenizer.from_pretrained(\"Jean-Baptiste/roberta-large-ner-english\")\n",
    "model = AutoModelForTokenClassification.from_pretrained(\"Jean-Baptiste/roberta-large-ner-english\")\n",
    "\n",
    "nlp = pipeline('ner', model=model, tokenizer=tokenizer, aggregation_strategy=\"simple\")"
   ],
   "metadata": {
    "collapsed": false,
    "pycharm": {
     "name": "#%%\n"
    }
   }
  },
  {
   "cell_type": "code",
   "execution_count": 7,
   "outputs": [
    {
     "name": "stdout",
     "output_type": "stream",
     "text": [
      "[[{'entity_group': 'ORG', 'score': 0.9996489, 'word': ' Departmento de Oceanografía', 'start': 45, 'end': 72}, {'entity_group': 'ORG', 'score': 0.99972737, 'word': ' Instituto Oceanográfico de Venezuela', 'start': 80, 'end': 116}, {'entity_group': 'PER', 'score': 0.99912685, 'word': ' LOREN LOCKWOOD', 'start': 175, 'end': 189}, {'entity_group': 'ORG', 'score': 0.99969786, 'word': ' Consejo de Investigación de la Universidad de Oriente', 'start': 263, 'end': 316}], [{'entity_group': 'MISC', 'score': 0.9998764, 'word': ' Vietnamese', 'start': 49, 'end': 59}, {'entity_group': 'MISC', 'score': 0.99983084, 'word': ' Americans', 'start': 108, 'end': 117}, {'entity_group': 'MISC', 'score': 0.99988735, 'word': ' American', 'start': 174, 'end': 182}, {'entity_group': 'MISC', 'score': 0.9998573, 'word': ' Chinese', 'start': 260, 'end': 267}, {'entity_group': 'MISC', 'score': 0.99980253, 'word': ' Soviets', 'start': 276, 'end': 283}, {'entity_group': 'MISC', 'score': 0.9999039, 'word': ' American', 'start': 340, 'end': 348}], [], [], [], [{'entity_group': 'ORG', 'score': 0.9917579, 'word': ' Spanish National Agrarian Accounting Network', 'start': 62, 'end': 106}, {'entity_group': 'ORG', 'score': 0.9981713, 'word': 'RECAN', 'start': 108, 'end': 113}, {'entity_group': 'MISC', 'score': 0.9958811, 'word': ' Spanish', 'start': 127, 'end': 134}, {'entity_group': 'ORG', 'score': 0.9969248, 'word': ' Ministry of Agriculture, Fisheries and Food', 'start': 135, 'end': 178}, {'entity_group': 'ORG', 'score': 0.830783, 'word': 'General for Analysis, Coordination and Statistics', 'start': 196, 'end': 245}], [], [], [{'entity_group': 'ORG', 'score': 0.99877656, 'word': 'Geran Penyelidikan Industri', 'start': 26, 'end': 53}, {'entity_group': 'ORG', 'score': 0.99801755, 'word': ' Dana Insentif Penerbitan Fakulti Pengajian Islam 2023', 'start': 69, 'end': 122}, {'entity_group': 'ORG', 'score': 0.99937594, 'word': ' Universiti Kebangsaan Malaysia', 'start': 124, 'end': 154}, {'entity_group': 'ORG', 'score': 0.99945337, 'word': ' Jabatan Mufti Negeri Sarawak', 'start': 159, 'end': 187}]]\n"
     ]
    }
   ],
   "source": [
    "# compute NER for all acknowledgements\n",
    "ner = []\n",
    "for acknowledgement in input_data.acknowledgents.values:\n",
    "    ner.append(nlp(acknowledgement))\n",
    "print(ner)"
   ],
   "metadata": {
    "collapsed": false,
    "pycharm": {
     "name": "#%%\n"
    }
   }
  },
  {
   "cell_type": "code",
   "execution_count": 8,
   "outputs": [
    {
     "name": "stdout",
     "output_type": "stream",
     "text": [
      "[[{'entity_group': 'ORG', 'score': 0.9996489, 'word': ' Departmento de Oceanografía', 'start': 45, 'end': 72}, {'entity_group': 'ORG', 'score': 0.99972737, 'word': ' Instituto Oceanográfico de Venezuela', 'start': 80, 'end': 116}, {'entity_group': 'PER', 'score': 0.99912685, 'word': ' LOREN LOCKWOOD', 'start': 175, 'end': 189}, {'entity_group': 'ORG', 'score': 0.99969786, 'word': ' Consejo de Investigación de la Universidad de Oriente', 'start': 263, 'end': 316}], [{'entity_group': 'MISC', 'score': 0.9998764, 'word': ' Vietnamese', 'start': 49, 'end': 59}, {'entity_group': 'MISC', 'score': 0.99983084, 'word': ' Americans', 'start': 108, 'end': 117}, {'entity_group': 'MISC', 'score': 0.99988735, 'word': ' American', 'start': 174, 'end': 182}, {'entity_group': 'MISC', 'score': 0.9998573, 'word': ' Chinese', 'start': 260, 'end': 267}, {'entity_group': 'MISC', 'score': 0.99980253, 'word': ' Soviets', 'start': 276, 'end': 283}, {'entity_group': 'MISC', 'score': 0.9999039, 'word': ' American', 'start': 340, 'end': 348}], [], [], [], [{'entity_group': 'ORG', 'score': 0.9917579, 'word': ' Spanish National Agrarian Accounting Network', 'start': 62, 'end': 106}, {'entity_group': 'ORG', 'score': 0.9981713, 'word': 'RECAN', 'start': 108, 'end': 113}, {'entity_group': 'MISC', 'score': 0.9958811, 'word': ' Spanish', 'start': 127, 'end': 134}, {'entity_group': 'ORG', 'score': 0.9969248, 'word': ' Ministry of Agriculture, Fisheries and Food', 'start': 135, 'end': 178}, {'entity_group': 'ORG', 'score': 0.830783, 'word': 'General for Analysis, Coordination and Statistics', 'start': 196, 'end': 245}], [], [], [{'entity_group': 'ORG', 'score': 0.99877656, 'word': 'Geran Penyelidikan Industri', 'start': 26, 'end': 53}, {'entity_group': 'ORG', 'score': 0.99801755, 'word': ' Dana Insentif Penerbitan Fakulti Pengajian Islam 2023', 'start': 69, 'end': 122}, {'entity_group': 'ORG', 'score': 0.99937594, 'word': ' Universiti Kebangsaan Malaysia', 'start': 124, 'end': 154}, {'entity_group': 'ORG', 'score': 0.99945337, 'word': ' Jabatan Mufti Negeri Sarawak', 'start': 159, 'end': 187}]]\n"
     ]
    }
   ],
   "source": [
    "# filter entities by applying accuracy threshold + filter PER and ORG\n",
    "print(ner)\n",
    "for n, paper_entities in enumerate(ner):\n",
    "    for i in range(len(paper_entities)-1, -1, -1):\n",
    "        entity = paper_entities[i]\n",
    "        if entity['entity_group'] not in ['ORG', 'PER'] or entity['score'] < 0.9:\n",
    "            ner[n].pop(i)"
   ],
   "metadata": {
    "collapsed": false,
    "pycharm": {
     "name": "#%%\n"
    }
   }
  },
  {
   "cell_type": "code",
   "execution_count": 9,
   "outputs": [],
   "source": [
    "# we can now use these combinations of paper (represented by title) + ORG/PER to create a triple: ORG/PER acknowledged by paper"
   ],
   "metadata": {
    "collapsed": false,
    "pycharm": {
     "name": "#%%\n"
    }
   }
  },
  {
   "cell_type": "code",
   "execution_count": 10,
   "outputs": [
    {
     "name": "stdout",
     "output_type": "stream",
     "text": [
      "[{'entity': ' Departmento de Oceanografía', 'title': ''}\n",
      " {'entity': ' Instituto Oceanográfico de Venezuela', 'title': ''}\n",
      " {'entity': ' LOREN LOCKWOOD', 'title': ''}\n",
      " {'entity': ' Consejo de Investigación de la Universidad de Oriente', 'title': ''}\n",
      " {'entity': ' Spanish National Agrarian Accounting Network', 'title': 'Economic risk assessment of the quality labels and productive efficiency strategies in Spanish extensive sheep farms'}\n",
      " {'entity': 'RECAN', 'title': 'Economic risk assessment of the quality labels and productive efficiency strategies in Spanish extensive sheep farms'}\n",
      " {'entity': ' Ministry of Agriculture, Fisheries and Food', 'title': 'Economic risk assessment of the quality labels and productive efficiency strategies in Spanish extensive sheep farms'}\n",
      " {'entity': 'Geran Penyelidikan Industri', 'title': 'DIVERSITY OF TIME ZONES AT BURJ KHALIFA IN PERFORMING PRAYERS AND FASTING IN SKYSCRAPERS'}\n",
      " {'entity': ' Dana Insentif Penerbitan Fakulti Pengajian Islam 2023', 'title': 'DIVERSITY OF TIME ZONES AT BURJ KHALIFA IN PERFORMING PRAYERS AND FASTING IN SKYSCRAPERS'}\n",
      " {'entity': ' Universiti Kebangsaan Malaysia', 'title': 'DIVERSITY OF TIME ZONES AT BURJ KHALIFA IN PERFORMING PRAYERS AND FASTING IN SKYSCRAPERS'}\n",
      " {'entity': ' Jabatan Mufti Negeri Sarawak', 'title': 'DIVERSITY OF TIME ZONES AT BURJ KHALIFA IN PERFORMING PRAYERS AND FASTING IN SKYSCRAPERS'}]\n"
     ]
    }
   ],
   "source": [
    "triple_list = []\n",
    "\n",
    "ACKNOWLEDGED_BY = 'ACKNOWLEDGED_BY'\n",
    "\n",
    "for title, paper_entities in zip(input_data.title.values, ner):\n",
    "    for entity in paper_entities:\n",
    "        triple_list.append({'entity': entity['word'], 'title': title})\n",
    "print(np.array(triple_list))\n",
    "with open(DATA_DIR / 'acknowledgement_triple.json', 'w') as handle:\n",
    "    json.dump(triple_list, handle)"
   ],
   "metadata": {
    "collapsed": false,
    "pycharm": {
     "name": "#%%\n"
    }
   }
  },
  {
   "cell_type": "code",
   "execution_count": null,
   "outputs": [],
   "source": [],
   "metadata": {
    "collapsed": false,
    "pycharm": {
     "name": "#%%\n"
    }
   }
  }
 ],
 "metadata": {
  "kernelspec": {
   "display_name": "Python 3",
   "language": "python",
   "name": "python3"
  },
  "language_info": {
   "codemirror_mode": {
    "name": "ipython",
    "version": 2
   },
   "file_extension": ".py",
   "mimetype": "text/x-python",
   "name": "python",
   "nbconvert_exporter": "python",
   "pygments_lexer": "ipython2",
   "version": "2.7.6"
  }
 },
 "nbformat": 4,
 "nbformat_minor": 0
}